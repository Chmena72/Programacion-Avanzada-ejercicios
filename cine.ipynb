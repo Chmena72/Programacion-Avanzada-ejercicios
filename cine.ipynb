{
 "cells": [
  {
   "cell_type": "code",
   "execution_count": 1,
   "metadata": {},
   "outputs": [
    {
     "name": "stdout",
     "output_type": "stream",
     "text": [
      "{'usuario': 'Juan', 'pelicula': 'Avengers', 'sala': 'IMAX 1', 'asientos': [10, 11, 12], 'precio': 5.0, 'promocion': 'Lunes 2x1'}\n"
     ]
    }
   ],
   "source": [
    "class Persona:\n",
    "    listapersona=[]\n",
    "    def __init__(self, nombre, telefono):\n",
    "        self.nombre= nombre\n",
    "        self.telefono=telefono\n",
    "    \n",
    "    def registrar(self,per1):\n",
    "        return listapersona.append(per1)\n",
    "\n",
    "    def actualizardatos(self,nombrenuevo):\n",
    "        self.nombre = nombrenuevo\n",
    "    def actualizarcontacto(self, contactonuevo):\n",
    "        self.contacto = contactonuevo\n"
   ]
  },
  {
   "cell_type": "code",
   "execution_count": null,
   "metadata": {},
   "outputs": [],
   "source": [
    "Lucy=persona('Lucy', '123456789')"
   ]
  }
 ],
 "metadata": {
  "kernelspec": {
   "display_name": "Python 3",
   "language": "python",
   "name": "python3"
  },
  "language_info": {
   "codemirror_mode": {
    "name": "ipython",
    "version": 3
   },
   "file_extension": ".py",
   "mimetype": "text/x-python",
   "name": "python",
   "nbconvert_exporter": "python",
   "pygments_lexer": "ipython3",
   "version": "3.13.1"
  }
 },
 "nbformat": 4,
 "nbformat_minor": 2
}
